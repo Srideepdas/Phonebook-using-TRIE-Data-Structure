{
 "cells": [
  {
   "cell_type": "code",
   "execution_count": null,
   "id": "f7a32bee",
   "metadata": {},
   "outputs": [
    {
     "name": "stdout",
     "output_type": "stream",
     "text": [
      "\u001b[34m\tPHONEBOOK DIRECTORY\n",
      "PRESS 1: To insert a new contact or add number to existing name\n",
      "PRESS 2: To delete a contact\n",
      "PRESS 3: To update an existing contact\n",
      "PRESS 4: To search an existing contact by prefix name\n",
      "PRESS ANY KEY : If you want to exit\n",
      "Press your response : 1\n"
     ]
    }
   ],
   "source": [
    "import colorama\n",
    "from answer import Trie\n",
    "import os\n",
    "import time\n",
    "\n",
    "\n",
    "def clear():\n",
    "    _ = os.system('clear' if os.name == 'posix' else 'cls')\n",
    "\n",
    "\n",
    "def main():\n",
    "    Phonebook = Trie()\n",
    "    while True:\n",
    "        print(colorama.Fore.BLUE+'\\tPHONEBOOK DIRECTORY')\n",
    "        print('PRESS 1: To insert a new contact or add number to existing name')\n",
    "        print('PRESS 2: To delete a contact')\n",
    "        print('PRESS 3: To update an existing contact')\n",
    "        print('PRESS 4: To search an existing contact by prefix name')\n",
    "        print('PRESS ANY KEY : If you want to exit')\n",
    "        response = input(colorama.Style.BRIGHT +\n",
    "                         colorama.Fore.GREEN+'Press your response : ')\n",
    "        if response == '1':\n",
    "            name = input(colorama.Fore.RED +\n",
    "                         colorama.Style.NORMAL+'Enter the name : ')\n",
    "            print(colorama.Fore.RED +\n",
    "                  colorama.Style.NORMAL+'Enter the phone number: ')\n",
    "            number = input().split()\n",
    "            Phonebook.insert(name=name, number=number)\n",
    "        elif response == '2':\n",
    "            name = input('Enter the name plz : ')\n",
    "            Phonebook.deletecontact(name)\n",
    "        elif response == '3':\n",
    "            print('Do you want to update name or update number ? ')\n",
    "            print('Press 1 for name updatation')\n",
    "            print('Press 2 for number updation')\n",
    "            num = input('Enter plz : ')\n",
    "            if num == '1':\n",
    "                pass\n",
    "                prevname = input(colorama.Fore.WHITE+'Enter already existing name : ')\n",
    "                newname = input(colorama.Fore.WHITE+'Enter the new to be updated name : ')\n",
    "                Phonebook.updatecontactname(prevname, newname)\n",
    "            elif num == '2':\n",
    "                name = input(colorama.Fore.WHITE+'Enter contact name : ')\n",
    "                prevnumber = input(colorama.Fore.WHITE+'Enter the previous number : ')\n",
    "                newnumber = input(colorama.Fore.WHITE+'Enter the new number : ')\n",
    "                Phonebook.updatenumber(name, prevnumber, newnumber=newnumber)\n",
    "            else:\n",
    "                break\n",
    "        elif response == '4':\n",
    "            name = input(colorama.Fore.RED+'Enter the prefix name for searching plx : ')\n",
    "            Phonebook.searchbyname(name)\n",
    "        else:\n",
    "            break\n",
    "        time.sleep(2)\n",
    "        clear()\n",
    "\n",
    "\n",
    "if __name__ == '__main__':\n",
    "    main()\n"
   ]
  },
  {
   "cell_type": "code",
   "execution_count": null,
   "id": "4d59eb08",
   "metadata": {},
   "outputs": [],
   "source": []
  }
 ],
 "metadata": {
  "kernelspec": {
   "display_name": "Python 3 (ipykernel)",
   "language": "python",
   "name": "python3"
  },
  "language_info": {
   "codemirror_mode": {
    "name": "ipython",
    "version": 3
   },
   "file_extension": ".py",
   "mimetype": "text/x-python",
   "name": "python",
   "nbconvert_exporter": "python",
   "pygments_lexer": "ipython3",
   "version": "3.7.11"
  }
 },
 "nbformat": 4,
 "nbformat_minor": 5
}
